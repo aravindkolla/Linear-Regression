import numpy as  np
import pandas as pd
import matplotlib.pyplot as plt
import seaborn as sns


df = pd.read_csv('./Algerian_forest_fires_cleaned_dataset.csv')


df.head()


df.columns


#drop day month year
df.drop(['day','month','year'],axis=1, inplace=True)


df.head()


df['Classes'].value_counts()


## encoding of the categorical in calasses
df['Classes']=np.where(df['Classes'].str.contains('not fire'),0,1)


df.head()


df['Classes'].value_counts()


### divide into dependent and independent features
X= df.drop('FWI',axis=1)
y=df['FWI']


X


y


### Train Test Split
from sklearn.model_selection import train_test_split
X_train, X_test, y_train, y_test = train_test_split(X,y,test_size=0.25,random_state=42)


X_train.shape,X_test.shape


### feature selection based on correlation
X_train.corr()


## check for multicollinearity
plt.figure(figsize=(12,10))
corr=X_train.corr()
sns.heatmap(corr,annot=True)


def correlation(dataset, threshold):
    col_corr = set()
    corr_matrix = dataset.corr()
    for i in range(len(corr_matrix.columns)):
        for j in range(i):
            if abs(corr_matrix.iloc[i, j]) > threshold: 
                colname = corr_matrix.columns[i]
                col_corr.add(colname)
    return col_corr


## threshold -- actually threshold was set by domain expert
corr_features=correlation(X_train,0.85)
corr_features


### drop features when corrleation is more than 0.85
X_train.drop(corr_features, axis=1, inplace=True)
X_test.drop(corr_features, axis=1, inplace=True)
X_train.shape,X_test.shape





from sklearn.preprocessing import StandardScaler
scaler= StandardScaler()
X_train_scaled = scaler.fit_transform(X_train)
X_test_scaled = scaler.transform(X_test)


X_train_scaled





plt.subplots(figsize=(15, 5))
plt.subplot(1, 2, 1)
sns.boxplot(data=X_train)
plt.title('X_train Before Scaling')
plt.subplot(1, 2, 2)
sns.boxplot(data=X_train_scaled)
plt.title('X_train After Scaling')








from sklearn.linear_model import LinearRegression
from sklearn.metrics import mean_absolute_error, r2_score
linreg=LinearRegression()
linreg.fit(X_train_scaled,y_train)
y_pred=linreg.predict(X_test_scaled)
mae=mean_absolute_error(y_test,y_pred)
score = r2_score(y_test,y_pred)
print("Mean absolute error ", mae)
print("R2 score ", score)
plt.scatter(y_test,y_pred)





from sklearn.linear_model import Lasbbso
from sklearn.metrics import mean_absolute_error, r2_score
lasso=Lasso()
lasso.fit(X_train_scaled,y_train)
y_pred=lasso.predict(X_test_scaled)
mae=mean_absolute_error(y_test,y_pred)
score = r2_score(y_test,y_pred)
print("Mean absolute error ", mae)
print("R2 score ", score)
plt.scatter(y_test,y_pred)





from sklearn.linear_model import LassoCV
lassocv=LassoCV(cv=5)
lassocv.fit(X_train_scaled,y_train)


lassocv.alpha_


y_pred=lassocv.predict(X_test_scaled)
mae=mean_absolute_error(y_test,y_pred)
score = r2_score(y_test,y_pred)
print("Mean absolute error ", mae)
print("R2 score ", score)
plt.scatter(y_test,y_pred)





from sklearn.linear_model import Ridge
from sklearn.metrics import mean_absolute_error, r2_score
ridge=Ridge()
ridge.fit(X_train_scaled,y_train)
y_pred=ridge.predict(X_test_scaled)
mae=mean_absolute_error(y_test,y_pred)
score = r2_score(y_test,y_pred)
print("Mean absolute error ", mae)
print("R2 score ", score)
plt.scatter(y_test,y_pred)


#corss validation
from sklearn.linear_model import RidgeCV
ridgecv=RidgeCV(cv=5)
ridgecv.fit(X_train_scaled,y_train)


y_pred=ridgecv.predict(X_test_scaled)
mae=mean_absolute_error(y_test,y_pred)
score = r2_score(y_test,y_pred)
print("Mean absolute error ", mae)
print("R2 score ", score)
plt.scatter(y_test,y_pred)


ridgecv.get_params()





from sklearn.linear_model import ElasticNet
from sklearn.metrics import mean_absolute_error, r2_score
elasticnet=ElasticNet()
elasticnet.fit(X_train_scaled,y_train)
y_pred=elasticnet.predict(X_test_scaled)
mae=mean_absolute_error(y_test,y_pred)
score = r2_score(y_test,y_pred)
print("Mean absolute error ", mae)
print("R2 score ", score)
plt.scatter(y_test,y_pred)


#corss validation
from sklearn.linear_model import ElasticNetCV
elasticnetcv=ElasticNetCV(cv=5)
elasticnetcv.fit(X_train_scaled,y_train)
y_pred=elasticnetcv.predict(X_test_scaled)
mae=mean_absolute_error(y_test,y_pred)
score = r2_score(y_test,y_pred)
print("Mean absolute error ", mae)
print("R2 score ", score)
plt.scatter(y_test,y_pred)


elasticnetcv.get_params()


elasticnetcv.alphas_








scaler


ridge


import pickle
pickle.dump(scaler,open('scaler.pkl','wb'))#wb - write byte
pickle.dump(ridge,open('ridge.pkl','wb'))



